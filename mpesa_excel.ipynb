{
  "nbformat": 4,
  "nbformat_minor": 0,
  "metadata": {
    "colab": {
      "name": "Untitled4.ipynb",
      "provenance": [],
      "collapsed_sections": [],
      "toc_visible": true,
      "authorship_tag": "ABX9TyOcEurooJY5GQqR9lZH3L4p",
      "include_colab_link": true
    },
    "kernelspec": {
      "name": "python3",
      "display_name": "Python 3"
    },
    "language_info": {
      "name": "python"
    }
  },
  "cells": [
    {
      "cell_type": "markdown",
      "metadata": {
        "id": "view-in-github",
        "colab_type": "text"
      },
      "source": [
        "<a href=\"https://colab.research.google.com/github/Allanbikundo/Allanbikundo/blob/master/mpesa_excel.ipynb\" target=\"_parent\"><img src=\"https://colab.research.google.com/assets/colab-badge.svg\" alt=\"Open In Colab\"/></a>"
      ]
    },
    {
      "cell_type": "markdown",
      "metadata": {
        "id": "eWvUv-fcsIF9"
      },
      "source": [
        "Things to do\n",
        "\n",
        "\n",
        "1.   Move to pandas\n",
        "2.   Enable the conversion of pdf to excel\n",
        "3.   Create an api for this with flask\n",
        "\n"
      ]
    },
    {
      "cell_type": "code",
      "metadata": {
        "id": "OKq_F4gxTEKY"
      },
      "source": [
        "# install needed packages\n",
        "!pip install openpyxl"
      ],
      "execution_count": null,
      "outputs": []
    },
    {
      "cell_type": "code",
      "metadata": {
        "id": "WfQ-rEThhtqL"
      },
      "source": [
        "# Load the workbook \n",
        "from openpyxl import load_workbook\n",
        "unprocessedWorkbook = load_workbook(filename=\"mpesa_statement.xlsx\")\n",
        "sheetnames = unprocessedWorkbook.sheetnames"
      ],
      "execution_count": null,
      "outputs": []
    },
    {
      "cell_type": "code",
      "metadata": {
        "id": "Gyn1ATrjiKzU"
      },
      "source": [
        "#Remove the first and second sheets \n",
        "#This is because the first and second sheets contain the user details and \n",
        "#transactions summary \n",
        "\n",
        "for sheet in sheetnames:\n",
        "  \n",
        "  if((int(sheet.split( )[1]) % 2) == 0): \n",
        "    std=unprocessedWorkbook[sheet]\n",
        "    unprocessedWorkbook.remove(std)\n",
        "\n",
        "semiProcessedSheetNames = unprocessedWorkbook.sheetnames\n",
        "unprocessedWorkbook.remove(unprocessedWorkbook[semiProcessedSheetNames[0]])\n",
        "\n",
        "# save the processed\n",
        "unprocessedWorkbook.save(\"processed.xlsx\")"
      ],
      "execution_count": null,
      "outputs": []
    },
    {
      "cell_type": "code",
      "metadata": {
        "id": "VOGt89tUibpw"
      },
      "source": [
        "# load the proccesed workbook\n",
        "processedWorkbook = load_workbook(filename=\"processed.xlsx\")\n",
        "processedSheetNames = processedWorkbook.sheetnames"
      ],
      "execution_count": null,
      "outputs": []
    },
    {
      "cell_type": "code",
      "metadata": {
        "id": "si2e_VT2yOVd"
      },
      "source": [
        "# Function to iterate through all the rows in a sheet\n",
        "\n",
        "def iter_rows(sheet):\n",
        "    for row in sheet.iter_rows():\n",
        "        yield [cell.value for cell in row]\n",
        "\n",
        "\n",
        "# Function to append the transactions into a single array\n",
        "def append_transactions(transactions,row):\n",
        "  for i in range(1,len(row)):\n",
        "    transactions.append(row[i])\n"
      ],
      "execution_count": null,
      "outputs": []
    },
    {
      "cell_type": "code",
      "metadata": {
        "id": "3VjUP2RxyZMA"
      },
      "source": [
        "#  Get all sheets as an array\n",
        "\n",
        "processedSheetsArray = []\n",
        "for processedSheetName in processedWorkbook.sheetnames:\n",
        "  processedSheetsArray.append(processedWorkbook[processedSheetName])\n"
      ],
      "execution_count": null,
      "outputs": []
    },
    {
      "cell_type": "code",
      "metadata": {
        "id": "X9yBnT6puHv5"
      },
      "source": [
        "#  get all transactions from all the sheets\n",
        "transactions = []\n",
        "# transactions.append(['Receipt No.', 'Completion Time', 'Details', 'Transaction Status', 'Paid In', 'Withdrawn', 'Balance'])\n",
        "for sheet in processedSheetsArray:\n",
        "  rows = list(iter_rows(sheet))\n",
        "  append_transactions(transactions,rows)"
      ],
      "execution_count": null,
      "outputs": []
    },
    {
      "cell_type": "code",
      "metadata": {
        "colab": {
          "base_uri": "https://localhost:8080/"
        },
        "id": "81VUh9uy6nzV",
        "outputId": "edeac1c2-915c-4010-e36e-dc43881c75a8"
      },
      "source": [
        "# look for buy goods transactions \n",
        "\n",
        "# if string contains Merchant Payment thats a buy goods\n",
        "import pprint\n",
        "buy_goods_transactions = []\n",
        "\n",
        "for transaction in transactions:\n",
        "  if \"Merchant Payment\" in transaction[2]:\n",
        "    buy_goods_transactions.append(transaction) \n"
      ],
      "execution_count": null,
      "outputs": [
        {
          "output_type": "stream",
          "text": [
            "326\n"
          ],
          "name": "stdout"
        }
      ]
    },
    {
      "cell_type": "code",
      "metadata": {
        "id": "j6sm8Wy7GyG1"
      },
      "source": [
        "# Get busineess name function\n",
        "\n",
        "def business_name(transaction_detail):\n",
        "  split = buy_goods_transaction[2].split(' - ')\n",
        "  # print(len(split))\n",
        "  if(len(split) != 2):\n",
        "      return None\n",
        "  name = split[1].lstrip().rstrip()\n",
        "  return name\n"
      ],
      "execution_count": null,
      "outputs": []
    },
    {
      "cell_type": "code",
      "metadata": {
        "colab": {
          "base_uri": "https://localhost:8080/"
        },
        "id": "8cXgNHxcAt1w",
        "outputId": "393dfac1-db32-4169-dc2a-462983b3fe63"
      },
      "source": [
        "# get unique businesses \n",
        "\n",
        "# this can be done on a different thread cause there is nothing im doing\n",
        "\n",
        "import multiprocessing\n",
        "print(multiprocessing.cpu_count())\n",
        "#  use a hashmap to show how many times you have visited the busines\n",
        "\n",
        "businesses = dict()\n",
        "\n",
        "for buy_goods_transaction in buy_goods_transactions:\n",
        "  # get business name\n",
        "  name = business_name(buy_goods_transaction)\n",
        "  if(name != None):\n",
        "    if(businesses.get(name) == None):\n",
        "      businesses[name] = 1\n",
        "    else:\n",
        "      businesses[name] = businesses.get(name) + 1\n",
        "\n",
        "pprint.pprint(len(businesses))"
      ],
      "execution_count": 240,
      "outputs": [
        {
          "output_type": "stream",
          "text": [
            "2\n",
            "124\n"
          ],
          "name": "stdout"
        }
      ]
    },
    {
      "cell_type": "code",
      "metadata": {
        "colab": {
          "base_uri": "https://localhost:8080/"
        },
        "id": "AwHXdAJQo_yF",
        "outputId": "90d0f831-fc0d-4ae6-b6b7-afd4ff07ee74"
      },
      "source": [
        "# lets save the businesses\n",
        "import requests\n",
        "\n",
        "url = 'https://c42ed38a7c19.ngrok.io'\n",
        "myobj = {'somekey': 'somevalue'}\n",
        "\n",
        "x = requests.post(url + \"/mdogomdogo/api/v1/ping\", data = myobj)\n",
        "\n",
        "print(x.text)\n",
        "\n",
        "\n",
        "for business in businesses:\n",
        "  result = requests.post(url + \"/mdogomdogo/api/v1/businesses\", data = {\n",
        "      \"name\": business,\n",
        "      \"description\": \"from somewhere\"\n",
        "  })"
      ],
      "execution_count": 246,
      "outputs": [
        {
          "output_type": "stream",
          "text": [
            "pong\n"
          ],
          "name": "stdout"
        }
      ]
    },
    {
      "cell_type": "markdown",
      "metadata": {
        "id": "nQynU_JwsHCS"
      },
      "source": [
        ""
      ]
    }
  ]
}